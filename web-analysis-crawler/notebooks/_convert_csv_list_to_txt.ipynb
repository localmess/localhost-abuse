{
 "cells": [
  {
   "cell_type": "code",
   "execution_count": 1,
   "metadata": {},
   "outputs": [],
   "source": [
    "import csv\n",
    "\n",
    "# Declare the file that needs to be loaded\n",
    "filePath = \"202502.csv\"\n",
    "outputPath = \"../input/list_100k.txt\"\n",
    "\n",
    "outputSize = 100000\n",
    "startPoint = 0"
   ]
  },
  {
   "cell_type": "code",
   "execution_count": 2,
   "metadata": {},
   "outputs": [],
   "source": [
    "csvFile = open(filePath)\n",
    "reader = csv.reader(csvFile)\n",
    "\n",
    "txtFile = open(outputPath, 'w')"
   ]
  },
  {
   "cell_type": "code",
   "execution_count": 3,
   "metadata": {},
   "outputs": [],
   "source": [
    "count = 0\n",
    "\n",
    "for row in reader:\n",
    "    if count <= startPoint:\n",
    "        count += 1\n",
    "        continue\n",
    "\n",
    "    txtFile.write(row[0])\n",
    "    count += 1\n",
    "\n",
    "    if count > outputSize+startPoint:\n",
    "        break\n",
    "\n",
    "    txtFile.write(\"\\n\")"
   ]
  },
  {
   "cell_type": "code",
   "execution_count": 4,
   "metadata": {},
   "outputs": [],
   "source": [
    "csvFile.close()\n",
    "txtFile.close()"
   ]
  }
 ],
 "metadata": {
  "kernelspec": {
   "display_name": "Python 3",
   "language": "python",
   "name": "python3"
  },
  "language_info": {
   "codemirror_mode": {
    "name": "ipython",
    "version": 3
   },
   "file_extension": ".py",
   "mimetype": "text/x-python",
   "name": "python",
   "nbconvert_exporter": "python",
   "pygments_lexer": "ipython3",
   "version": "3.10.7"
  },
  "vscode": {
   "interpreter": {
    "hash": "369f2c481f4da34e4445cda3fffd2e751bd1c4d706f27375911949ba6bb62e1c"
   }
  }
 },
 "nbformat": 4,
 "nbformat_minor": 4
}
